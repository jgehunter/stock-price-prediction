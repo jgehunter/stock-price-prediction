{
  "nbformat": 4,
  "nbformat_minor": 0,
  "metadata": {
    "colab": {
      "name": "price-prediction.ipynb",
      "provenance": [],
      "authorship_tag": "ABX9TyONreuRJ4nspsmiKjUDwcp8",
      "include_colab_link": true
    },
    "kernelspec": {
      "name": "python3",
      "display_name": "Python 3"
    },
    "accelerator": "GPU"
  },
  "cells": [
    {
      "cell_type": "markdown",
      "metadata": {
        "id": "view-in-github",
        "colab_type": "text"
      },
      "source": [
        "<a href=\"https://colab.research.google.com/github/jgehunter/stock_price_prediction/blob/main/price_prediction.ipynb\" target=\"_parent\"><img src=\"https://colab.research.google.com/assets/colab-badge.svg\" alt=\"Open In Colab\"/></a>"
      ]
    },
    {
      "cell_type": "code",
      "metadata": {
        "id": "8Z_Fz9Krewzd"
      },
      "source": [
        "import pandas as pd\r\n",
        "import numpy as np\r\n",
        "import matplotlib.pyplot as plt\r\n",
        "import tensorflow as tf"
      ],
      "execution_count": 1,
      "outputs": []
    },
    {
      "cell_type": "code",
      "metadata": {
        "colab": {
          "resources": {
            "http://localhost:8080/nbextensions/google.colab/files.js": {
              "data": "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",
              "ok": true,
              "headers": [
                [
                  "content-type",
                  "application/javascript"
                ]
              ],
              "status": 200,
              "status_text": ""
            }
          },
          "base_uri": "https://localhost:8080/",
          "height": 72
        },
        "id": "wGDZa2VzfKcL",
        "outputId": "0d4b3270-430b-4960-de6b-03c06e0ae20b"
      },
      "source": [
        "# Train data\r\n",
        "\r\n",
        "from google.colab import files\r\n",
        "uploaded = files.upload()"
      ],
      "execution_count": 2,
      "outputs": [
        {
          "output_type": "display_data",
          "data": {
            "text/html": [
              "\n",
              "     <input type=\"file\" id=\"files-29a3c421-7201-4342-ae6e-339df2124cec\" name=\"files[]\" multiple disabled\n",
              "        style=\"border:none\" />\n",
              "     <output id=\"result-29a3c421-7201-4342-ae6e-339df2124cec\">\n",
              "      Upload widget is only available when the cell has been executed in the\n",
              "      current browser session. Please rerun this cell to enable.\n",
              "      </output>\n",
              "      <script src=\"/nbextensions/google.colab/files.js\"></script> "
            ],
            "text/plain": [
              "<IPython.core.display.HTML object>"
            ]
          },
          "metadata": {
            "tags": []
          }
        },
        {
          "output_type": "stream",
          "text": [
            "Saving GOOGLE.parquet to GOOGLE.parquet\n"
          ],
          "name": "stdout"
        }
      ]
    },
    {
      "cell_type": "code",
      "metadata": {
        "id": "FBv9Ph_xfZi3"
      },
      "source": [
        "train_data = pd.read_parquet(\"GOOGLE.parquet\")"
      ],
      "execution_count": 3,
      "outputs": []
    },
    {
      "cell_type": "code",
      "metadata": {
        "colab": {
          "base_uri": "https://localhost:8080/",
          "height": 235
        },
        "id": "X5gwhhJBfg0g",
        "outputId": "8a4d9f34-d3c5-4224-86b0-240767e60554"
      },
      "source": [
        "train_data.head()"
      ],
      "execution_count": 4,
      "outputs": [
        {
          "output_type": "execute_result",
          "data": {
            "text/html": [
              "<div>\n",
              "<style scoped>\n",
              "    .dataframe tbody tr th:only-of-type {\n",
              "        vertical-align: middle;\n",
              "    }\n",
              "\n",
              "    .dataframe tbody tr th {\n",
              "        vertical-align: top;\n",
              "    }\n",
              "\n",
              "    .dataframe thead th {\n",
              "        text-align: right;\n",
              "    }\n",
              "</style>\n",
              "<table border=\"1\" class=\"dataframe\">\n",
              "  <thead>\n",
              "    <tr style=\"text-align: right;\">\n",
              "      <th></th>\n",
              "      <th>Open</th>\n",
              "      <th>High</th>\n",
              "      <th>Low</th>\n",
              "      <th>Close</th>\n",
              "      <th>Volume</th>\n",
              "    </tr>\n",
              "    <tr>\n",
              "      <th>Date</th>\n",
              "      <th></th>\n",
              "      <th></th>\n",
              "      <th></th>\n",
              "      <th></th>\n",
              "      <th></th>\n",
              "    </tr>\n",
              "  </thead>\n",
              "  <tbody>\n",
              "    <tr>\n",
              "      <th>2014-12-31</th>\n",
              "      <td>537.739990</td>\n",
              "      <td>538.400024</td>\n",
              "      <td>530.200012</td>\n",
              "      <td>530.659973</td>\n",
              "      <td>1232400</td>\n",
              "    </tr>\n",
              "    <tr>\n",
              "      <th>2015-01-02</th>\n",
              "      <td>532.599976</td>\n",
              "      <td>535.799988</td>\n",
              "      <td>527.880005</td>\n",
              "      <td>529.549988</td>\n",
              "      <td>1324000</td>\n",
              "    </tr>\n",
              "    <tr>\n",
              "      <th>2015-01-05</th>\n",
              "      <td>527.150024</td>\n",
              "      <td>527.989990</td>\n",
              "      <td>517.750000</td>\n",
              "      <td>519.460022</td>\n",
              "      <td>2059100</td>\n",
              "    </tr>\n",
              "    <tr>\n",
              "      <th>2015-01-06</th>\n",
              "      <td>520.500000</td>\n",
              "      <td>521.210022</td>\n",
              "      <td>505.549988</td>\n",
              "      <td>506.640015</td>\n",
              "      <td>2722800</td>\n",
              "    </tr>\n",
              "    <tr>\n",
              "      <th>2015-01-07</th>\n",
              "      <td>510.950012</td>\n",
              "      <td>511.489990</td>\n",
              "      <td>503.649994</td>\n",
              "      <td>505.149994</td>\n",
              "      <td>2345900</td>\n",
              "    </tr>\n",
              "  </tbody>\n",
              "</table>\n",
              "</div>"
            ],
            "text/plain": [
              "                  Open        High         Low       Close   Volume\n",
              "Date                                                               \n",
              "2014-12-31  537.739990  538.400024  530.200012  530.659973  1232400\n",
              "2015-01-02  532.599976  535.799988  527.880005  529.549988  1324000\n",
              "2015-01-05  527.150024  527.989990  517.750000  519.460022  2059100\n",
              "2015-01-06  520.500000  521.210022  505.549988  506.640015  2722800\n",
              "2015-01-07  510.950012  511.489990  503.649994  505.149994  2345900"
            ]
          },
          "metadata": {
            "tags": []
          },
          "execution_count": 4
        }
      ]
    },
    {
      "cell_type": "code",
      "metadata": {
        "id": "vjPr0znLfjGw"
      },
      "source": [
        "training_set = train_data.iloc[:, 3:4].values"
      ],
      "execution_count": 5,
      "outputs": []
    },
    {
      "cell_type": "code",
      "metadata": {
        "id": "2F9MNGxhfrfQ"
      },
      "source": [
        "# Normalizing data, scale between 0 and 1:\r\n",
        "\r\n",
        "from sklearn.preprocessing import MinMaxScaler\r\n",
        "\r\n",
        "sc = MinMaxScaler(feature_range=(0, 1))\r\n",
        "\r\n",
        "training_data_scaled = sc.fit_transform(training_set)"
      ],
      "execution_count": 6,
      "outputs": []
    },
    {
      "cell_type": "code",
      "metadata": {
        "colab": {
          "base_uri": "https://localhost:8080/"
        },
        "id": "qtsmABhOgL2Q",
        "outputId": "093c2d46-ee60-4842-87b9-6ccd3e25dbea"
      },
      "source": [
        "training_data_scaled.shape"
      ],
      "execution_count": 7,
      "outputs": [
        {
          "output_type": "execute_result",
          "data": {
            "text/plain": [
              "(1545, 1)"
            ]
          },
          "metadata": {
            "tags": []
          },
          "execution_count": 7
        }
      ]
    },
    {
      "cell_type": "code",
      "metadata": {
        "id": "l93mSleZgOef"
      },
      "source": [
        "X_train = []\r\n",
        "y_train = []\r\n",
        "cutof_idx = round(0.9*training_data_scaled.shape[0])\r\n",
        "\r\n",
        "for i in range(60, cutof_idx):\r\n",
        "  X_train.append(training_data_scaled[i-60:i, 0])\r\n",
        "  y_train.append(training_data_scaled[i, 0])\r\n",
        "\r\n",
        "X_train, y_train = np.array(X_train), np.array(y_train)"
      ],
      "execution_count": 8,
      "outputs": []
    },
    {
      "cell_type": "code",
      "metadata": {
        "id": "E6KqeUMwgUd3"
      },
      "source": [
        "X_train = np.reshape(X_train, (X_train.shape[0], X_train.shape[1], 1))"
      ],
      "execution_count": 9,
      "outputs": []
    },
    {
      "cell_type": "code",
      "metadata": {
        "colab": {
          "base_uri": "https://localhost:8080/"
        },
        "id": "ceT1qRkpgW8_",
        "outputId": "7ca6b12e-9789-45f0-92c3-d3a1b5b320bd"
      },
      "source": [
        "# Building Model:\r\n",
        "\r\n",
        "model = tf.keras.models.Sequential()\r\n",
        "\r\n",
        "model.add(tf.keras.layers.LSTM(units=50, return_sequences=True, \r\n",
        "                               input_shape=(X_train.shape[1], 1)))\r\n",
        "\r\n",
        "model.add(tf.keras.layers.Dropout(0.2))\r\n",
        "\r\n",
        "model.add(tf.keras.layers.LSTM(units=50, return_sequences=True))\r\n",
        "\r\n",
        "model.add(tf.keras.layers.Dropout(0.2))\r\n",
        "\r\n",
        "model.add(tf.keras.layers.LSTM(units=50, return_sequences=True))\r\n",
        "\r\n",
        "model.add(tf.keras.layers.Dropout(0.2))\r\n",
        "\r\n",
        "model.add(tf.keras.layers.LSTM(units=50))\r\n",
        "\r\n",
        "model.add(tf.keras.layers.Dropout(0.2))\r\n",
        "\r\n",
        "model.add(tf.keras.layers.Dense(units=1))\r\n",
        "\r\n",
        "model.summary()"
      ],
      "execution_count": 10,
      "outputs": [
        {
          "output_type": "stream",
          "text": [
            "Model: \"sequential\"\n",
            "_________________________________________________________________\n",
            "Layer (type)                 Output Shape              Param #   \n",
            "=================================================================\n",
            "lstm (LSTM)                  (None, 60, 50)            10400     \n",
            "_________________________________________________________________\n",
            "dropout (Dropout)            (None, 60, 50)            0         \n",
            "_________________________________________________________________\n",
            "lstm_1 (LSTM)                (None, 60, 50)            20200     \n",
            "_________________________________________________________________\n",
            "dropout_1 (Dropout)          (None, 60, 50)            0         \n",
            "_________________________________________________________________\n",
            "lstm_2 (LSTM)                (None, 60, 50)            20200     \n",
            "_________________________________________________________________\n",
            "dropout_2 (Dropout)          (None, 60, 50)            0         \n",
            "_________________________________________________________________\n",
            "lstm_3 (LSTM)                (None, 50)                20200     \n",
            "_________________________________________________________________\n",
            "dropout_3 (Dropout)          (None, 50)                0         \n",
            "_________________________________________________________________\n",
            "dense (Dense)                (None, 1)                 51        \n",
            "=================================================================\n",
            "Total params: 71,051\n",
            "Trainable params: 71,051\n",
            "Non-trainable params: 0\n",
            "_________________________________________________________________\n"
          ],
          "name": "stdout"
        }
      ]
    },
    {
      "cell_type": "code",
      "metadata": {
        "id": "J1A_Td8ngakY"
      },
      "source": [
        "model.compile(optimizer='adam', loss='mean_squared_error')"
      ],
      "execution_count": 11,
      "outputs": []
    },
    {
      "cell_type": "code",
      "metadata": {
        "colab": {
          "base_uri": "https://localhost:8080/"
        },
        "id": "ZVMMyVW_gdi3",
        "outputId": "f205a81e-060d-4af5-dca6-5a6effbaaa3d"
      },
      "source": [
        "hist = model.fit(X_train, y_train, epochs=100, batch_size=32)"
      ],
      "execution_count": 12,
      "outputs": [
        {
          "output_type": "stream",
          "text": [
            "Epoch 1/100\n",
            "42/42 [==============================] - 11s 14ms/step - loss: 0.0309\n",
            "Epoch 2/100\n",
            "42/42 [==============================] - 1s 12ms/step - loss: 0.0024\n",
            "Epoch 3/100\n",
            "42/42 [==============================] - 1s 13ms/step - loss: 0.0021\n",
            "Epoch 4/100\n",
            "42/42 [==============================] - 1s 13ms/step - loss: 0.0022\n",
            "Epoch 5/100\n",
            "42/42 [==============================] - 0s 12ms/step - loss: 0.0021\n",
            "Epoch 6/100\n",
            "42/42 [==============================] - 1s 13ms/step - loss: 0.0017\n",
            "Epoch 7/100\n",
            "42/42 [==============================] - 0s 12ms/step - loss: 0.0015\n",
            "Epoch 8/100\n",
            "42/42 [==============================] - 1s 13ms/step - loss: 0.0015\n",
            "Epoch 9/100\n",
            "42/42 [==============================] - 1s 13ms/step - loss: 0.0015\n",
            "Epoch 10/100\n",
            "42/42 [==============================] - 1s 13ms/step - loss: 0.0015\n",
            "Epoch 11/100\n",
            "42/42 [==============================] - 0s 12ms/step - loss: 0.0017\n",
            "Epoch 12/100\n",
            "42/42 [==============================] - 0s 11ms/step - loss: 0.0015\n",
            "Epoch 13/100\n",
            "42/42 [==============================] - 0s 11ms/step - loss: 0.0014\n",
            "Epoch 14/100\n",
            "42/42 [==============================] - 0s 11ms/step - loss: 0.0015\n",
            "Epoch 15/100\n",
            "42/42 [==============================] - 0s 11ms/step - loss: 0.0014\n",
            "Epoch 16/100\n",
            "42/42 [==============================] - 1s 14ms/step - loss: 0.0012\n",
            "Epoch 17/100\n",
            "42/42 [==============================] - 1s 14ms/step - loss: 0.0013\n",
            "Epoch 18/100\n",
            "42/42 [==============================] - 1s 14ms/step - loss: 0.0014\n",
            "Epoch 19/100\n",
            "42/42 [==============================] - 1s 14ms/step - loss: 0.0012\n",
            "Epoch 20/100\n",
            "42/42 [==============================] - 1s 12ms/step - loss: 0.0013\n",
            "Epoch 21/100\n",
            "42/42 [==============================] - 1s 14ms/step - loss: 0.0012\n",
            "Epoch 22/100\n",
            "42/42 [==============================] - 0s 11ms/step - loss: 0.0011\n",
            "Epoch 23/100\n",
            "42/42 [==============================] - 0s 11ms/step - loss: 0.0013\n",
            "Epoch 24/100\n",
            "42/42 [==============================] - 1s 13ms/step - loss: 9.7124e-04\n",
            "Epoch 25/100\n",
            "42/42 [==============================] - 1s 14ms/step - loss: 0.0011\n",
            "Epoch 26/100\n",
            "42/42 [==============================] - 0s 11ms/step - loss: 0.0011\n",
            "Epoch 27/100\n",
            "42/42 [==============================] - 0s 11ms/step - loss: 0.0011\n",
            "Epoch 28/100\n",
            "42/42 [==============================] - 1s 14ms/step - loss: 0.0010\n",
            "Epoch 29/100\n",
            "42/42 [==============================] - 1s 13ms/step - loss: 0.0011\n",
            "Epoch 30/100\n",
            "42/42 [==============================] - 1s 12ms/step - loss: 9.8606e-04\n",
            "Epoch 31/100\n",
            "42/42 [==============================] - 0s 11ms/step - loss: 0.0010\n",
            "Epoch 32/100\n",
            "42/42 [==============================] - 0s 12ms/step - loss: 0.0010\n",
            "Epoch 33/100\n",
            "42/42 [==============================] - 1s 12ms/step - loss: 0.0011\n",
            "Epoch 34/100\n",
            "42/42 [==============================] - 1s 13ms/step - loss: 8.0995e-04\n",
            "Epoch 35/100\n",
            "42/42 [==============================] - 0s 11ms/step - loss: 8.4615e-04\n",
            "Epoch 36/100\n",
            "42/42 [==============================] - 0s 11ms/step - loss: 8.4436e-04\n",
            "Epoch 37/100\n",
            "42/42 [==============================] - 1s 13ms/step - loss: 8.7419e-04\n",
            "Epoch 38/100\n",
            "42/42 [==============================] - 1s 14ms/step - loss: 8.1619e-04\n",
            "Epoch 39/100\n",
            "42/42 [==============================] - 1s 12ms/step - loss: 7.3784e-04\n",
            "Epoch 40/100\n",
            "42/42 [==============================] - 1s 14ms/step - loss: 8.1778e-04\n",
            "Epoch 41/100\n",
            "42/42 [==============================] - 1s 13ms/step - loss: 7.6564e-04\n",
            "Epoch 42/100\n",
            "42/42 [==============================] - 1s 13ms/step - loss: 8.0554e-04\n",
            "Epoch 43/100\n",
            "42/42 [==============================] - 1s 13ms/step - loss: 7.4344e-04\n",
            "Epoch 44/100\n",
            "42/42 [==============================] - 0s 11ms/step - loss: 7.5355e-04\n",
            "Epoch 45/100\n",
            "42/42 [==============================] - 0s 12ms/step - loss: 6.8851e-04\n",
            "Epoch 46/100\n",
            "42/42 [==============================] - 1s 12ms/step - loss: 7.2911e-04\n",
            "Epoch 47/100\n",
            "42/42 [==============================] - 0s 12ms/step - loss: 7.2636e-04\n",
            "Epoch 48/100\n",
            "42/42 [==============================] - 0s 12ms/step - loss: 6.8309e-04\n",
            "Epoch 49/100\n",
            "42/42 [==============================] - 0s 11ms/step - loss: 6.9221e-04\n",
            "Epoch 50/100\n",
            "42/42 [==============================] - 0s 11ms/step - loss: 6.9654e-04\n",
            "Epoch 51/100\n",
            "42/42 [==============================] - 0s 11ms/step - loss: 6.7583e-04\n",
            "Epoch 52/100\n",
            "42/42 [==============================] - 0s 11ms/step - loss: 8.5122e-04\n",
            "Epoch 53/100\n",
            "42/42 [==============================] - 0s 11ms/step - loss: 6.8199e-04\n",
            "Epoch 54/100\n",
            "42/42 [==============================] - 1s 13ms/step - loss: 7.2424e-04\n",
            "Epoch 55/100\n",
            "42/42 [==============================] - 1s 13ms/step - loss: 6.4748e-04\n",
            "Epoch 56/100\n",
            "42/42 [==============================] - 1s 14ms/step - loss: 6.5471e-04\n",
            "Epoch 57/100\n",
            "42/42 [==============================] - 0s 11ms/step - loss: 6.3461e-04\n",
            "Epoch 58/100\n",
            "42/42 [==============================] - 0s 12ms/step - loss: 6.9680e-04\n",
            "Epoch 59/100\n",
            "42/42 [==============================] - 1s 12ms/step - loss: 5.9238e-04\n",
            "Epoch 60/100\n",
            "42/42 [==============================] - 1s 13ms/step - loss: 6.4394e-04\n",
            "Epoch 61/100\n",
            "42/42 [==============================] - 0s 11ms/step - loss: 7.5638e-04\n",
            "Epoch 62/100\n",
            "42/42 [==============================] - 0s 12ms/step - loss: 7.1895e-04\n",
            "Epoch 63/100\n",
            "42/42 [==============================] - 1s 13ms/step - loss: 5.7276e-04\n",
            "Epoch 64/100\n",
            "42/42 [==============================] - 0s 12ms/step - loss: 5.5106e-04\n",
            "Epoch 65/100\n",
            "42/42 [==============================] - 0s 11ms/step - loss: 5.6843e-04\n",
            "Epoch 66/100\n",
            "42/42 [==============================] - 1s 12ms/step - loss: 6.0098e-04\n",
            "Epoch 67/100\n",
            "42/42 [==============================] - 1s 12ms/step - loss: 5.8903e-04\n",
            "Epoch 68/100\n",
            "42/42 [==============================] - 0s 11ms/step - loss: 4.9608e-04\n",
            "Epoch 69/100\n",
            "42/42 [==============================] - 0s 11ms/step - loss: 5.8997e-04\n",
            "Epoch 70/100\n",
            "42/42 [==============================] - 0s 11ms/step - loss: 5.4460e-04\n",
            "Epoch 71/100\n",
            "42/42 [==============================] - 0s 11ms/step - loss: 6.2616e-04\n",
            "Epoch 72/100\n",
            "42/42 [==============================] - 0s 12ms/step - loss: 5.6437e-04\n",
            "Epoch 73/100\n",
            "42/42 [==============================] - 1s 13ms/step - loss: 5.1817e-04\n",
            "Epoch 74/100\n",
            "42/42 [==============================] - 0s 12ms/step - loss: 4.9098e-04\n",
            "Epoch 75/100\n",
            "42/42 [==============================] - 0s 11ms/step - loss: 4.9636e-04\n",
            "Epoch 76/100\n",
            "42/42 [==============================] - 0s 11ms/step - loss: 4.8911e-04\n",
            "Epoch 77/100\n",
            "42/42 [==============================] - 0s 11ms/step - loss: 5.1866e-04\n",
            "Epoch 78/100\n",
            "42/42 [==============================] - 0s 11ms/step - loss: 5.8282e-04\n",
            "Epoch 79/100\n",
            "42/42 [==============================] - 1s 13ms/step - loss: 5.2938e-04\n",
            "Epoch 80/100\n",
            "42/42 [==============================] - 1s 13ms/step - loss: 4.5797e-04\n",
            "Epoch 81/100\n",
            "42/42 [==============================] - 1s 12ms/step - loss: 6.3796e-04\n",
            "Epoch 82/100\n",
            "42/42 [==============================] - 1s 13ms/step - loss: 5.4516e-04\n",
            "Epoch 83/100\n",
            "42/42 [==============================] - 1s 12ms/step - loss: 4.6199e-04\n",
            "Epoch 84/100\n",
            "42/42 [==============================] - 1s 13ms/step - loss: 5.3855e-04\n",
            "Epoch 85/100\n",
            "42/42 [==============================] - 1s 14ms/step - loss: 5.4509e-04\n",
            "Epoch 86/100\n",
            "42/42 [==============================] - 0s 12ms/step - loss: 4.7600e-04\n",
            "Epoch 87/100\n",
            "42/42 [==============================] - 0s 11ms/step - loss: 5.2577e-04\n",
            "Epoch 88/100\n",
            "42/42 [==============================] - 1s 13ms/step - loss: 4.5951e-04\n",
            "Epoch 89/100\n",
            "42/42 [==============================] - 0s 12ms/step - loss: 4.9177e-04\n",
            "Epoch 90/100\n",
            "42/42 [==============================] - 0s 11ms/step - loss: 5.4189e-04\n",
            "Epoch 91/100\n",
            "42/42 [==============================] - 0s 11ms/step - loss: 4.2076e-04\n",
            "Epoch 92/100\n",
            "42/42 [==============================] - 1s 12ms/step - loss: 5.0415e-04\n",
            "Epoch 93/100\n",
            "42/42 [==============================] - 1s 12ms/step - loss: 4.2601e-04\n",
            "Epoch 94/100\n",
            "42/42 [==============================] - 1s 12ms/step - loss: 4.9419e-04\n",
            "Epoch 95/100\n",
            "42/42 [==============================] - 0s 11ms/step - loss: 3.9961e-04\n",
            "Epoch 96/100\n",
            "42/42 [==============================] - 0s 12ms/step - loss: 4.7050e-04\n",
            "Epoch 97/100\n",
            "42/42 [==============================] - 0s 11ms/step - loss: 3.9216e-04\n",
            "Epoch 98/100\n",
            "42/42 [==============================] - 1s 12ms/step - loss: 4.5039e-04\n",
            "Epoch 99/100\n",
            "42/42 [==============================] - 1s 12ms/step - loss: 4.7515e-04\n",
            "Epoch 100/100\n",
            "42/42 [==============================] - 0s 11ms/step - loss: 4.5454e-04\n"
          ],
          "name": "stdout"
        }
      ]
    },
    {
      "cell_type": "code",
      "metadata": {
        "colab": {
          "base_uri": "https://localhost:8080/",
          "height": 279
        },
        "id": "TnL2NcGDghXw",
        "outputId": "333a5ff4-d6dc-4ee0-eb4d-bbd45bf9d6fe"
      },
      "source": [
        "plt.plot(hist.history['loss'])\r\n",
        "plt.xlabel('Epochs')\r\n",
        "plt.ylabel('Loss')\r\n",
        "plt.show()"
      ],
      "execution_count": 13,
      "outputs": [
        {
          "output_type": "display_data",
          "data": {
            "image/png": "[encoded data removed]",
            "text/plain": [
              "<Figure size 432x288 with 1 Axes>"
            ]
          },
          "metadata": {
            "tags": [],
            "needs_background": "light"
          }
        }
      ]
    },
    {
      "cell_type": "code",
      "metadata": {
        "id": "kORUa74UiqAQ"
      },
      "source": [
        "X_test = []\r\n",
        "for i in range(0, len(training_data_scaled)-cutof_idx-60):\r\n",
        "    X_test.append(training_data_scaled[cutof_idx+i:cutof_idx+60+i, 0])\r\n",
        "X_test = np.array(X_test)\r\n",
        "X_test = np.reshape(X_test, (X_test.shape[0], X_test.shape[1], 1))"
      ],
      "execution_count": 14,
      "outputs": []
    },
    {
      "cell_type": "code",
      "metadata": {
        "id": "RfnKppYtkaNo"
      },
      "source": [
        "predicted_stock_price = model.predict(X_test)"
      ],
      "execution_count": 15,
      "outputs": []
    },
    {
      "cell_type": "code",
      "metadata": {
        "id": "-0rDujPaklVu"
      },
      "source": [
        "predicted_stock_price = sc.inverse_transform(predicted_stock_price)"
      ],
      "execution_count": 16,
      "outputs": []
    },
    {
      "cell_type": "code",
      "metadata": {
        "id": "zuGcpKBylwt2"
      },
      "source": [
        "real_stock_price = sc.inverse_transform(training_data_scaled[cutof_idx:])"
      ],
      "execution_count": 17,
      "outputs": []
    },
    {
      "cell_type": "code",
      "metadata": {
        "colab": {
          "base_uri": "https://localhost:8080/",
          "height": 404
        },
        "id": "TzAZEVhVlbPE",
        "outputId": "f8687b9a-ce57-4fad-b9ea-9e63dcc1e7f3"
      },
      "source": [
        "plt.figure(figsize=(12, 6))\r\n",
        "\r\n",
        "plt.plot(real_stock_price[:len(predicted_stock_price)], color='black', label='Google Stock Price')\r\n",
        "plt.plot(predicted_stock_price, color='red', label='Predicted Google Stock Price')\r\n",
        "\r\n",
        "plt.title('Google Stock Price Prediction')\r\n",
        "plt.xlabel('Time')\r\n",
        "plt.ylabel('Google Stock Price')\r\n",
        "plt.legend()\r\n",
        "plt.show()"
      ],
      "execution_count": 19,
      "outputs": [
        {
          "output_type": "display_data",
          "data": {
            "image/png": "[encoded data removed]",
            "text/plain": [
              "<Figure size 864x432 with 1 Axes>"
            ]
          },
          "metadata": {
            "tags": [],
            "needs_background": "light"
          }
        }
      ]
    },
    {
      "cell_type": "code",
      "metadata": {
        "id": "5YhNuvGIlc--"
      },
      "source": [
        ""
      ],
      "execution_count": null,
      "outputs": []
    }
  ]
}